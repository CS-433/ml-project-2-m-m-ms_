{
 "cells": [
  {
   "cell_type": "code",
   "execution_count": 1,
   "metadata": {},
   "outputs": [],
   "source": [
    "import os\n",
    "import pandas as pd\n",
    "\n",
    "from scripts.helpers import *\n",
    "from scripts.denoising_pipeline import *\n",
    "\n",
    "%load_ext autoreload\n",
    "%autoreload 2\n",
    "%reload_ext autoreload"
   ]
  },
  {
   "cell_type": "code",
   "execution_count": 3,
   "metadata": {},
   "outputs": [],
   "source": [
    "# Get paths\n",
    "data_path, output_path = get_paths()\n",
    "\n",
    "# Define global parameter ranges\n",
    "PARAMETER_RANGES = {\n",
    "    \"Gaussian\": {\"param_name\": \"sigma\", \"values\": [2]},\n",
    "    \"Median\": {\"param_name\": \"size\", \"values\": [5]},\n",
    "    \"TV-Chambolle\": {\"param_name\": \"weight\", \"values\": [0.1]}, #  0.2, 0.3\n",
    "    \"Wavelet\": {\"param_name\": None, \"values\": None},  # Use default parameters\n",
    "    \"NL-Means\": {\"param_name\": None, \"values\": None},  # Use default parameters\n",
    "    \"TV-ISO\": {\"param_name\": \"lmbda\", \"values\": [0.1]}, # 0.05, 0.08,\n",
    "    \"BM3D\": {\"param_name\": \"sigma_psd\", \"values\": [0.1, 0.05, 0.15]}, #  0.15\n",
    "    \"Noise2Noise\": {\"param_name\": None, \"values\": None},  # Use default parameters\n",
    "    \"Noise2Void\": {\"param_name\": None, \"values\": None}  # Use default parameters\n",
    "}\n",
    "\n",
    "disable_progress = True  # Set to False to enable progress bar\n",
    "\n",
    "# Choose denoiser\n",
    "denoiser_name = \"BM3D\"  # \"Gaussian\", \"Median\", \"TV-Chambolle\", \"Wavelet\", \"NL-Means\", \"TV-ISO\", \"BM3D\", \"Noise2Noise\", \"Noise2Void\""
   ]
  },
  {
   "cell_type": "code",
   "execution_count": null,
   "metadata": {},
   "outputs": [],
   "source": [
    "# Run the denoising pipeline\n",
    "denoising_pipeline(data_path, output_path, denoiser_name, PARAMETER_RANGES, num_images=120, num_channels=3, disable_progress=disable_progress)"
   ]
  },
  {
   "cell_type": "code",
   "execution_count": null,
   "metadata": {},
   "outputs": [],
   "source": [
    "results_df = pd.read_csv(os.path.join(output_path, f\"{denoiser_name}/avg_{denoiser_name}_denoiser_results.csv\"))\n",
    "\n",
    "# Display and save the results\n",
    "display_styled_results(results_df, output_path, f\"{denoiser_name}_styled_results.csv\", f\"{denoiser_name} Denoising Results\")"
   ]
  }
 ],
 "metadata": {
  "kernelspec": {
   "display_name": "Python 3",
   "language": "python",
   "name": "python3"
  },
  "language_info": {
   "codemirror_mode": {
    "name": "ipython",
    "version": 3
   },
   "file_extension": ".py",
   "mimetype": "text/x-python",
   "name": "python",
   "nbconvert_exporter": "python",
   "pygments_lexer": "ipython3",
   "version": "3.12.7"
  }
 },
 "nbformat": 4,
 "nbformat_minor": 2
}
