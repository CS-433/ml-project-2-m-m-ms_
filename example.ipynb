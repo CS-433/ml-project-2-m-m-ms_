{
 "cells": [
  {
   "cell_type": "code",
   "execution_count": 6,
   "metadata": {},
   "outputs": [
    {
     "data": {
      "text/plain": [
       "<torch.autograd.grad_mode.set_grad_enabled at 0x13f2f60f0>"
      ]
     },
     "execution_count": 6,
     "metadata": {},
     "output_type": "execute_result"
    }
   ],
   "source": [
    "import torch\n",
    "from Noise2Noise.models.drunet import DRUNet\n",
    "torch.set_grad_enabled(False)"
   ]
  },
  {
   "cell_type": "code",
   "execution_count": 11,
   "metadata": {},
   "outputs": [
    {
     "data": {
      "text/plain": [
       "dict_keys(['state_dict', 'optimizer', 'config'])"
      ]
     },
     "execution_count": 11,
     "metadata": {},
     "output_type": "execute_result"
    }
   ],
   "source": [
    "infos.keys()"
   ]
  },
  {
   "cell_type": "code",
   "execution_count": 12,
   "metadata": {},
   "outputs": [
    {
     "data": {
      "text/plain": [
       "{'exp_name': 'depth_3_channel_64_patch_128_batch_16_lr_1e-4',\n",
       " 'log_dir': 'exps/bw',\n",
       " 'net_params': {'depth': 3, 'nb_channels': 64},\n",
       " 'training_options': {'color': False,\n",
       "  'batch_size': 16,\n",
       "  'patch_size': 128,\n",
       "  'data_augmentation': True,\n",
       "  'gamma_scheduler': 0.5,\n",
       "  'lr': 0.0001,\n",
       "  'lr_decay_step': 10000,\n",
       "  'num_workers': 4,\n",
       "  'testing_step': 10000,\n",
       "  'total_steps': 100000}}"
      ]
     },
     "execution_count": 12,
     "metadata": {},
     "output_type": "execute_result"
    }
   ],
   "source": [
    "config"
   ]
  },
  {
   "cell_type": "code",
   "execution_count": 9,
   "metadata": {},
   "outputs": [
    {
     "name": "stderr",
     "output_type": "stream",
     "text": [
      "/var/folders/82/q2x3vw9j7tnghtzghrscmg9w0000gn/T/ipykernel_47417/4084081706.py:1: FutureWarning: You are using `torch.load` with `weights_only=False` (the current default value), which uses the default pickle module implicitly. It is possible to construct malicious pickle data which will execute arbitrary code during unpickling (See https://github.com/pytorch/pytorch/blob/main/SECURITY.md#untrusted-models for more details). In a future release, the default value for `weights_only` will be flipped to `True`. This limits the functions that could be executed during unpickling. Arbitrary objects will no longer be allowed to be loaded via this mode unless they are explicitly allowlisted by the user via `torch.serialization.add_safe_globals`. We recommend you start setting `weights_only=True` for any use case where you don't have full control of the loaded file. Please open an issue on GitHub for any issues related to this experimental feature.\n",
      "  infos = torch.load('Noise2Noise/checkpoint.pth', map_location='cpu')\n"
     ]
    },
    {
     "data": {
      "text/plain": [
       "DRUNet(\n",
       "  (resblocks): ModuleList(\n",
       "    (0): ResBlocks(\n",
       "      (network): ModuleList(\n",
       "        (0-2): 3 x ResBlock(\n",
       "          (network): Sequential(\n",
       "            (0): Conv2d(64, 64, kernel_size=(3, 3), stride=(1, 1), padding=(1, 1), bias=False)\n",
       "            (1): ReLU(inplace=True)\n",
       "            (2): Conv2d(64, 64, kernel_size=(3, 3), stride=(1, 1), padding=(1, 1), bias=False)\n",
       "          )\n",
       "        )\n",
       "      )\n",
       "    )\n",
       "    (1): ResBlocks(\n",
       "      (network): ModuleList(\n",
       "        (0-2): 3 x ResBlock(\n",
       "          (network): Sequential(\n",
       "            (0): Conv2d(128, 128, kernel_size=(3, 3), stride=(1, 1), padding=(1, 1), bias=False)\n",
       "            (1): ReLU(inplace=True)\n",
       "            (2): Conv2d(128, 128, kernel_size=(3, 3), stride=(1, 1), padding=(1, 1), bias=False)\n",
       "          )\n",
       "        )\n",
       "      )\n",
       "    )\n",
       "    (2): ResBlocks(\n",
       "      (network): ModuleList(\n",
       "        (0-2): 3 x ResBlock(\n",
       "          (network): Sequential(\n",
       "            (0): Conv2d(256, 256, kernel_size=(3, 3), stride=(1, 1), padding=(1, 1), bias=False)\n",
       "            (1): ReLU(inplace=True)\n",
       "            (2): Conv2d(256, 256, kernel_size=(3, 3), stride=(1, 1), padding=(1, 1), bias=False)\n",
       "          )\n",
       "        )\n",
       "      )\n",
       "    )\n",
       "    (3): ResBlocks(\n",
       "      (network): ModuleList(\n",
       "        (0-2): 3 x ResBlock(\n",
       "          (network): Sequential(\n",
       "            (0): Conv2d(512, 512, kernel_size=(3, 3), stride=(1, 1), padding=(1, 1), bias=False)\n",
       "            (1): ReLU(inplace=True)\n",
       "            (2): Conv2d(512, 512, kernel_size=(3, 3), stride=(1, 1), padding=(1, 1), bias=False)\n",
       "          )\n",
       "        )\n",
       "      )\n",
       "    )\n",
       "    (4): ResBlocks(\n",
       "      (network): ModuleList(\n",
       "        (0-2): 3 x ResBlock(\n",
       "          (network): Sequential(\n",
       "            (0): Conv2d(256, 256, kernel_size=(3, 3), stride=(1, 1), padding=(1, 1), bias=False)\n",
       "            (1): ReLU(inplace=True)\n",
       "            (2): Conv2d(256, 256, kernel_size=(3, 3), stride=(1, 1), padding=(1, 1), bias=False)\n",
       "          )\n",
       "        )\n",
       "      )\n",
       "    )\n",
       "    (5): ResBlocks(\n",
       "      (network): ModuleList(\n",
       "        (0-2): 3 x ResBlock(\n",
       "          (network): Sequential(\n",
       "            (0): Conv2d(128, 128, kernel_size=(3, 3), stride=(1, 1), padding=(1, 1), bias=False)\n",
       "            (1): ReLU(inplace=True)\n",
       "            (2): Conv2d(128, 128, kernel_size=(3, 3), stride=(1, 1), padding=(1, 1), bias=False)\n",
       "          )\n",
       "        )\n",
       "      )\n",
       "    )\n",
       "    (6): ResBlocks(\n",
       "      (network): ModuleList(\n",
       "        (0-2): 3 x ResBlock(\n",
       "          (network): Sequential(\n",
       "            (0): Conv2d(64, 64, kernel_size=(3, 3), stride=(1, 1), padding=(1, 1), bias=False)\n",
       "            (1): ReLU(inplace=True)\n",
       "            (2): Conv2d(64, 64, kernel_size=(3, 3), stride=(1, 1), padding=(1, 1), bias=False)\n",
       "          )\n",
       "        )\n",
       "      )\n",
       "    )\n",
       "  )\n",
       "  (downsamples): ModuleList(\n",
       "    (0): Conv2d(64, 128, kernel_size=(2, 2), stride=(2, 2), bias=False)\n",
       "    (1): Conv2d(128, 256, kernel_size=(2, 2), stride=(2, 2), bias=False)\n",
       "    (2): Conv2d(256, 512, kernel_size=(2, 2), stride=(2, 2), bias=False)\n",
       "  )\n",
       "  (upsamples): ModuleList(\n",
       "    (0): ConvTranspose2d(512, 256, kernel_size=(2, 2), stride=(2, 2), bias=False)\n",
       "    (1): ConvTranspose2d(256, 128, kernel_size=(2, 2), stride=(2, 2), bias=False)\n",
       "    (2): ConvTranspose2d(128, 64, kernel_size=(2, 2), stride=(2, 2), bias=False)\n",
       "  )\n",
       "  (conv_first): Conv2d(1, 64, kernel_size=(3, 3), stride=(1, 1), padding=(1, 1), bias=False)\n",
       "  (conv_last): Conv2d(64, 1, kernel_size=(3, 3), stride=(1, 1), padding=(1, 1), bias=False)\n",
       ")"
      ]
     },
     "execution_count": 9,
     "metadata": {},
     "output_type": "execute_result"
    }
   ],
   "source": [
    "infos = torch.load('Noise2Noise/checkpoint.pth', map_location='cpu') \n",
    "config = infos['config']\n",
    "model = DRUNet(config['net_params']['nb_channels'], config['net_params']['depth'], config['training_options']['color'])\n",
    "model.load_state_dict(infos['state_dict']) # loads saved model parameters into newly created model \n",
    "model.eval() # sets model to evaluation mode"
   ]
  },
  {
   "cell_type": "code",
   "execution_count": null,
   "metadata": {},
   "outputs": [],
   "source": [
    "import pandas as pd\n",
    "\n",
    "df = pd.read_csv('output/n2n_results.csv')\n"
   ]
  }
 ],
 "metadata": {
  "kernelspec": {
   "display_name": "base",
   "language": "python",
   "name": "python3"
  },
  "language_info": {
   "codemirror_mode": {
    "name": "ipython",
    "version": 3
   },
   "file_extension": ".py",
   "mimetype": "text/x-python",
   "name": "python",
   "nbconvert_exporter": "python",
   "pygments_lexer": "ipython3",
   "version": "3.12.4"
  },
  "orig_nbformat": 4
 },
 "nbformat": 4,
 "nbformat_minor": 2
}
