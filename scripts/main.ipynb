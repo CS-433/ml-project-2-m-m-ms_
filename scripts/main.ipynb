{
 "cells": [
  {
   "cell_type": "code",
   "execution_count": null,
   "metadata": {},
   "outputs": [],
   "source": [
    "import pandas as pd\n",
    "\n",
    "from scripts.functions import *\n",
    "\n",
    "%load_ext autoreload\n",
    "%autoreload 2\n",
    "%reload_ext autoreload"
   ]
  },
  {
   "cell_type": "code",
   "execution_count": 5,
   "metadata": {},
   "outputs": [
    {
     "ename": "FileNotFoundError",
     "evalue": "[Errno 2] No such file or directory: '/Users/gattimartina/Documents/EPFL/Master/MA1/ML/projects/data/data.npy'",
     "output_type": "error",
     "traceback": [
      "\u001b[0;31m---------------------------------------------------------------------------\u001b[0m",
      "\u001b[0;31mFileNotFoundError\u001b[0m                         Traceback (most recent call last)",
      "Cell \u001b[0;32mIn[5], line 33\u001b[0m\n\u001b[1;32m     29\u001b[0m     display_styled_results(avg_results, output_path, \u001b[38;5;124mf\u001b[39m\u001b[38;5;124m\"\u001b[39m\u001b[38;5;124maverage_\u001b[39m\u001b[38;5;132;01m{\u001b[39;00mresult_filename\u001b[38;5;132;01m}\u001b[39;00m\u001b[38;5;124m\"\u001b[39m, title\u001b[38;5;241m=\u001b[39m\u001b[38;5;124mf\u001b[39m\u001b[38;5;124m\"\u001b[39m\u001b[38;5;124mAverage \u001b[39m\u001b[38;5;132;01m{\u001b[39;00mdenoiser_name\u001b[38;5;132;01m}\u001b[39;00m\u001b[38;5;124m Results\u001b[39m\u001b[38;5;124m\"\u001b[39m)\n\u001b[1;32m     32\u001b[0m \u001b[38;5;28;01mif\u001b[39;00m \u001b[38;5;18m__name__\u001b[39m \u001b[38;5;241m==\u001b[39m \u001b[38;5;124m\"\u001b[39m\u001b[38;5;124m__main__\u001b[39m\u001b[38;5;124m\"\u001b[39m:\n\u001b[0;32m---> 33\u001b[0m     \u001b[43mmain\u001b[49m\u001b[43m(\u001b[49m\u001b[43m)\u001b[49m\n",
      "Cell \u001b[0;32mIn[5], line 22\u001b[0m, in \u001b[0;36mmain\u001b[0;34m()\u001b[0m\n\u001b[1;32m     19\u001b[0m denoiser_name \u001b[38;5;241m=\u001b[39m \u001b[38;5;124m\"\u001b[39m\u001b[38;5;124mNoise2Void\u001b[39m\u001b[38;5;124m\"\u001b[39m  \u001b[38;5;66;03m# \"Gaussian\", \"Median\", \"TV-Chambolle\", \"Wavelet\", \"NL-Means\", or \"Noise2Void\"\u001b[39;00m\n\u001b[1;32m     21\u001b[0m \u001b[38;5;66;03m# Process images with the chosen denoiser\u001b[39;00m\n\u001b[0;32m---> 22\u001b[0m results_df, result_filename \u001b[38;5;241m=\u001b[39m \u001b[43mprocess_with_denoiser\u001b[49m\u001b[43m(\u001b[49m\u001b[43mdenoiser_name\u001b[49m\u001b[43m,\u001b[49m\u001b[43m \u001b[49m\u001b[43mdata_path\u001b[49m\u001b[43m,\u001b[49m\u001b[43m \u001b[49m\u001b[43mnum_images\u001b[49m\u001b[38;5;241;43m=\u001b[39;49m\u001b[38;5;241;43m2\u001b[39;49m\u001b[43m,\u001b[49m\u001b[43m \u001b[49m\u001b[43mparameter_ranges\u001b[49m\u001b[38;5;241;43m=\u001b[39;49m\u001b[43mPARAMETER_RANGES\u001b[49m\u001b[43m,\u001b[49m\u001b[43m \u001b[49m\u001b[43mdisable_progress\u001b[49m\u001b[38;5;241;43m=\u001b[39;49m\u001b[43mdisable_progress\u001b[49m\u001b[43m)\u001b[49m\n\u001b[1;32m     24\u001b[0m \u001b[38;5;66;03m# Save and display results\u001b[39;00m\n\u001b[1;32m     25\u001b[0m display_styled_results(results_df, output_path, result_filename, title\u001b[38;5;241m=\u001b[39m\u001b[38;5;124mf\u001b[39m\u001b[38;5;124m\"\u001b[39m\u001b[38;5;132;01m{\u001b[39;00mdenoiser_name\u001b[38;5;132;01m}\u001b[39;00m\u001b[38;5;124m Denoiser Results\u001b[39m\u001b[38;5;124m\"\u001b[39m)\n",
      "File \u001b[0;32m~/Documents/EPFL/Master/MA1/ML/projects/ML4Science-CS433/functions.py:127\u001b[0m, in \u001b[0;36mprocess_with_denoiser\u001b[0;34m(denoiser_name, data_path, num_images, parameter_ranges, disable_progress)\u001b[0m\n\u001b[1;32m    125\u001b[0m \u001b[38;5;28;01melse\u001b[39;00m:  \u001b[38;5;66;03m# Denoisers with default parameters\u001b[39;00m\n\u001b[1;32m    126\u001b[0m     denoiser_params \u001b[38;5;241m=\u001b[39m {}\n\u001b[0;32m--> 127\u001b[0m     denoiser_results \u001b[38;5;241m=\u001b[39m \u001b[43mprocess_images\u001b[49m\u001b[43m(\u001b[49m\n\u001b[1;32m    128\u001b[0m \u001b[43m        \u001b[49m\u001b[43mdata_path\u001b[49m\u001b[43m,\u001b[49m\u001b[43m \u001b[49m\u001b[43mnum_images\u001b[49m\u001b[38;5;241;43m=\u001b[39;49m\u001b[43mnum_images\u001b[49m\u001b[43m,\u001b[49m\u001b[43m \u001b[49m\u001b[43mdenoiser\u001b[49m\u001b[38;5;241;43m=\u001b[39;49m\u001b[43mdenoiser\u001b[49m\u001b[43m,\u001b[49m\u001b[43m \u001b[49m\u001b[43mdisable_progress\u001b[49m\u001b[38;5;241;43m=\u001b[39;49m\u001b[43mdisable_progress\u001b[49m\u001b[43m,\u001b[49m\u001b[43m \u001b[49m\u001b[38;5;241;43m*\u001b[39;49m\u001b[38;5;241;43m*\u001b[39;49m\u001b[43mdenoiser_params\u001b[49m\n\u001b[1;32m    129\u001b[0m \u001b[43m    \u001b[49m\u001b[43m)\u001b[49m\n\u001b[1;32m    130\u001b[0m     \u001b[38;5;28;01mfor\u001b[39;00m result \u001b[38;5;129;01min\u001b[39;00m denoiser_results:\n\u001b[1;32m    131\u001b[0m         result\u001b[38;5;241m.\u001b[39mextend([denoiser_name, \u001b[38;5;124m\"\u001b[39m\u001b[38;5;124mDefault parameters\u001b[39m\u001b[38;5;124m\"\u001b[39m])\n",
      "File \u001b[0;32m~/Documents/EPFL/Master/MA1/ML/projects/ML4Science-CS433/functions.py:69\u001b[0m, in \u001b[0;36mprocess_images\u001b[0;34m(data_path, num_images, denoiser, disable_progress, **denoiser_params)\u001b[0m\n\u001b[1;32m     66\u001b[0m image_index \u001b[38;5;241m=\u001b[39m \u001b[38;5;28mstr\u001b[39m(i \u001b[38;5;241m+\u001b[39m \u001b[38;5;241m1\u001b[39m)\u001b[38;5;241m.\u001b[39mzfill(\u001b[38;5;241m3\u001b[39m)\n\u001b[1;32m     67\u001b[0m \u001b[38;5;28;01mfor\u001b[39;00m channel \u001b[38;5;129;01min\u001b[39;00m \u001b[38;5;28mrange\u001b[39m(\u001b[38;5;241m3\u001b[39m):\n\u001b[1;32m     68\u001b[0m     \u001b[38;5;66;03m# Load image\u001b[39;00m\n\u001b[0;32m---> 69\u001b[0m     image_channel \u001b[38;5;241m=\u001b[39m \u001b[43mload_image\u001b[49m\u001b[43m(\u001b[49m\u001b[43mdata_path\u001b[49m\u001b[43m,\u001b[49m\u001b[43m \u001b[49m\u001b[38;5;124;43m'\u001b[39;49m\u001b[38;5;124;43mdata.npy\u001b[39;49m\u001b[38;5;124;43m'\u001b[39;49m\u001b[43m)\u001b[49m\u001b[38;5;66;03m#load_image(data_path, f'Image{image_index}/wf_channel{channel}.npy')\u001b[39;00m\n\u001b[1;32m     71\u001b[0m     \u001b[38;5;66;03m# Generate ground truth and sample image\u001b[39;00m\n\u001b[1;32m     72\u001b[0m     ground_truth_img \u001b[38;5;241m=\u001b[39m ground_truth(image_channel)\n",
      "File \u001b[0;32m~/Documents/EPFL/Master/MA1/ML/projects/ML4Science-CS433/scripts/helpers.py:16\u001b[0m, in \u001b[0;36mload_image\u001b[0;34m(path_to_data, image_path)\u001b[0m\n\u001b[1;32m     14\u001b[0m \u001b[38;5;28;01mdef\u001b[39;00m \u001b[38;5;21mload_image\u001b[39m(path_to_data, image_path):\n\u001b[1;32m     15\u001b[0m \u001b[38;5;250m    \u001b[39m\u001b[38;5;124;03m\"\"\"Load a .npy image file from the specified path.\"\"\"\u001b[39;00m\n\u001b[0;32m---> 16\u001b[0m     \u001b[38;5;28;01mreturn\u001b[39;00m \u001b[43mnp\u001b[49m\u001b[38;5;241;43m.\u001b[39;49m\u001b[43mload\u001b[49m\u001b[43m(\u001b[49m\u001b[43mpath_to_data\u001b[49m\u001b[43m \u001b[49m\u001b[38;5;241;43m+\u001b[39;49m\u001b[43m \u001b[49m\u001b[43mimage_path\u001b[49m\u001b[43m)\u001b[49m\n",
      "File \u001b[0;32m/opt/anaconda3/envs/n2v/lib/python3.9/site-packages/numpy/lib/npyio.py:405\u001b[0m, in \u001b[0;36mload\u001b[0;34m(file, mmap_mode, allow_pickle, fix_imports, encoding, max_header_size)\u001b[0m\n\u001b[1;32m    403\u001b[0m     own_fid \u001b[38;5;241m=\u001b[39m \u001b[38;5;28;01mFalse\u001b[39;00m\n\u001b[1;32m    404\u001b[0m \u001b[38;5;28;01melse\u001b[39;00m:\n\u001b[0;32m--> 405\u001b[0m     fid \u001b[38;5;241m=\u001b[39m stack\u001b[38;5;241m.\u001b[39menter_context(\u001b[38;5;28;43mopen\u001b[39;49m\u001b[43m(\u001b[49m\u001b[43mos_fspath\u001b[49m\u001b[43m(\u001b[49m\u001b[43mfile\u001b[49m\u001b[43m)\u001b[49m\u001b[43m,\u001b[49m\u001b[43m \u001b[49m\u001b[38;5;124;43m\"\u001b[39;49m\u001b[38;5;124;43mrb\u001b[39;49m\u001b[38;5;124;43m\"\u001b[39;49m\u001b[43m)\u001b[49m)\n\u001b[1;32m    406\u001b[0m     own_fid \u001b[38;5;241m=\u001b[39m \u001b[38;5;28;01mTrue\u001b[39;00m\n\u001b[1;32m    408\u001b[0m \u001b[38;5;66;03m# Code to distinguish from NumPy binary files and pickles.\u001b[39;00m\n",
      "\u001b[0;31mFileNotFoundError\u001b[0m: [Errno 2] No such file or directory: '/Users/gattimartina/Documents/EPFL/Master/MA1/ML/projects/data/data.npy'"
     ]
    }
   ],
   "source": [
    "# Define global parameter ranges\n",
    "PARAMETER_RANGES = {\n",
    "    \"Gaussian\": {\"param_name\": \"sigma\", \"values\": [2.5, 3, 3.5]},\n",
    "    \"Median\": {\"param_name\": \"size\", \"values\": [5, 8, 10]},\n",
    "    \"TV-Chambolle\": {\"param_name\": \"weight\", \"values\": [0.05, 0.1, 0.2]},\n",
    "    \"Wavelet\": {\"param_name\": None, \"values\": None},  # Use default parameters\n",
    "    \"NL-Means\": {\"param_name\": None, \"values\": None},  # Use default parameters\n",
    "    \"Noise2Void\": {\"param_name\": None, \"values\": None}  # Use default parameters\n",
    "}\n",
    "\n",
    "disable_progress = True  # Set to False to enable progress bar\n",
    "\n",
    "def main():\n",
    "    \"\"\"Main script to evaluate denoisers and save results.\"\"\"\n",
    "    # Get paths\n",
    "    data_path, output_path = get_paths()\n",
    "\n",
    "    # Choose denoiser\n",
    "    denoiser_name = \"Noise2Void\"  # \"Gaussian\", \"Median\", \"TV-Chambolle\", \"Wavelet\", \"NL-Means\", or \"Noise2Void\"\n",
    "\n",
    "    # Process images with the chosen denoiser\n",
    "    results_df, result_filename = process_with_denoiser(denoiser_name, data_path, num_images=2, parameter_ranges=PARAMETER_RANGES, disable_progress=disable_progress)\n",
    "\n",
    "    # Save and display results\n",
    "    display_styled_results(results_df, output_path, result_filename, title=f\"{denoiser_name} Denoiser Results\")\n",
    "\n",
    "    # Compute and save averages\n",
    "    avg_results = compute_averages(results_df)\n",
    "    display_styled_results(avg_results, output_path, f\"average_{result_filename}\", title=f\"Average {denoiser_name} Results\")\n",
    "\n",
    "\n",
    "if __name__ == \"__main__\":\n",
    "    main()\n"
   ]
  },
  {
   "cell_type": "code",
   "execution_count": null,
   "metadata": {},
   "outputs": [],
   "source": []
  }
 ],
 "metadata": {
  "kernelspec": {
   "display_name": "base",
   "language": "python",
   "name": "python3"
  },
  "language_info": {
   "codemirror_mode": {
    "name": "ipython",
    "version": 3
   },
   "file_extension": ".py",
   "mimetype": "text/x-python",
   "name": "python",
   "nbconvert_exporter": "python",
   "pygments_lexer": "ipython3",
   "version": "3.12.4"
  }
 },
 "nbformat": 4,
 "nbformat_minor": 2
}
