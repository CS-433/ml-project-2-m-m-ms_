{
 "cells": [
  {
   "cell_type": "code",
   "execution_count": 8,
   "metadata": {},
   "outputs": [],
   "source": [
    "import numpy as np\n",
    "import os\n",
    "import logging as log\n",
    "\n"
   ]
  },
  {
   "cell_type": "code",
   "execution_count": 9,
   "metadata": {},
   "outputs": [
    {
     "data": {
      "text/plain": [
       "array([[112.8175, 112.12  , 112.4375, ..., 107.2975, 107.0625, 111.6575],\n",
       "       [111.3   , 113.3825, 112.315 , ..., 106.715 , 106.805 , 107.395 ],\n",
       "       [112.0225, 113.0575, 112.77  , ..., 107.4575, 107.4375, 107.81  ],\n",
       "       ...,\n",
       "       [105.9825, 107.6525, 108.2125, ..., 106.785 , 107.6975, 107.8325],\n",
       "       [107.665 , 108.2725, 106.635 , ..., 106.775 , 107.7   , 107.0775],\n",
       "       [106.265 , 106.235 , 107.0775, ..., 106.7   , 106.4275, 106.44  ]])"
      ]
     },
     "execution_count": 9,
     "metadata": {},
     "output_type": "execute_result"
    }
   ],
   "source": [
    "current_working_dir = os.getcwd()\n",
    "parent_dir = os.path.abspath(os.path.join(current_working_dir, '..'))\n",
    "\n",
    "data_path = os.path.join(parent_dir, f'data/raw')\n",
    "log.info(f\"Data path: {data_path}\")\n",
    "\n",
    "image_index = str(1).zfill(3)\n",
    "np.load(os.path.join(data_path, f'Image{image_index}/wf_channel1.npy')).mean(axis=0)"
   ]
  },
  {
   "cell_type": "code",
   "execution_count": null,
   "metadata": {},
   "outputs": [],
   "source": []
  }
 ],
 "metadata": {
  "kernelspec": {
   "display_name": "base",
   "language": "python",
   "name": "python3"
  },
  "language_info": {
   "codemirror_mode": {
    "name": "ipython",
    "version": 3
   },
   "file_extension": ".py",
   "mimetype": "text/x-python",
   "name": "python",
   "nbconvert_exporter": "python",
   "pygments_lexer": "ipython3",
   "version": "3.12.4"
  }
 },
 "nbformat": 4,
 "nbformat_minor": 2
}
